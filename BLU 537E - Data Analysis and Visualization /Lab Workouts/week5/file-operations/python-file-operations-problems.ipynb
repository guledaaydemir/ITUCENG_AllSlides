{
 "cells": [
  {
   "cell_type": "markdown",
   "metadata": {},
   "source": [
    "# File operations using python example"
   ]
  },
  {
   "cell_type": "markdown",
   "metadata": {},
   "source": [
    "you are given a folder gau_files which contain files having *.gau extension\n",
    "<br> these are special files in certain scientific areas\n",
    "<br> we need to modifiy these files so that lines starting with \"%nproc\" and \"%mem\" should be deleted"
   ]
  },
  {
   "cell_type": "markdown",
   "metadata": {},
   "source": [
    "first create new folder with a name \"gau_files_modified\""
   ]
  },
  {
   "cell_type": "code",
   "execution_count": 1,
   "metadata": {},
   "outputs": [],
   "source": [
    "import os\n"
   ]
  },
  {
   "cell_type": "markdown",
   "metadata": {},
   "source": [
    "go through all the files in gau_files and modify them and copy the modified files into the \"gau_files_modified\" folder"
   ]
  },
  {
   "cell_type": "code",
   "execution_count": 3,
   "metadata": {},
   "outputs": [],
   "source": [
    "directory=\"gau_files\""
   ]
  },
  {
   "cell_type": "markdown",
   "metadata": {},
   "source": [
    "get the list of files in that folder"
   ]
  },
  {
   "cell_type": "code",
   "execution_count": 4,
   "metadata": {},
   "outputs": [],
   "source": [
    "filelist=os."
   ]
  },
  {
   "cell_type": "code",
   "execution_count": 5,
   "metadata": {},
   "outputs": [
    {
     "data": {
      "text/plain": [
       "['ETOH-DON-H11.gau',\n",
       " 'Icon\\r',\n",
       " 'ETOH-DON-H13.gau',\n",
       " 'ETOH-DON-H12.gau',\n",
       " 'ETOH-sp-MP2.gau',\n",
       " 'ETOH-ACC-O2.gau',\n",
       " 'ETOH-DON-HO2.gau',\n",
       " 'wat-sp.gau',\n",
       " 'ETOH-DON-H22.gau',\n",
       " 'ETOH-DON-H21.gau',\n",
       " 'ETOH-sp-HF.gau']"
      ]
     },
     "execution_count": 5,
     "metadata": {},
     "output_type": "execute_result"
    }
   ],
   "source": [
    "filelist"
   ]
  },
  {
   "cell_type": "code",
   "execution_count": 1,
   "metadata": {},
   "outputs": [],
   "source": [
    "outputdir=\"gau_files_modified\"\n",
    "# go through all the files in gau_files and modify them and copy the modified files into the \"gau_files_modified\" folder"
   ]
  },
  {
   "cell_type": "code",
   "execution_count": 7,
   "metadata": {},
   "outputs": [],
   "source": []
  }
 ],
 "metadata": {
  "kernelspec": {
   "display_name": "Python 3",
   "language": "python",
   "name": "python3"
  },
  "language_info": {
   "codemirror_mode": {
    "name": "ipython",
    "version": 3
   },
   "file_extension": ".py",
   "mimetype": "text/x-python",
   "name": "python",
   "nbconvert_exporter": "python",
   "pygments_lexer": "ipython3",
   "version": "3.8.5"
  }
 },
 "nbformat": 4,
 "nbformat_minor": 2
}
