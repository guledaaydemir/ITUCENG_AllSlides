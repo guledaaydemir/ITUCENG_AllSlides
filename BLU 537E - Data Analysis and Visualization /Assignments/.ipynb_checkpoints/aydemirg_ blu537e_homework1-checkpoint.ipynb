{
 "cells": [
  {
   "cell_type": "markdown",
   "metadata": {},
   "source": [
    "# BLU537E 2022-Fall Homework Assignment # 1"
   ]
  },
  {
   "cell_type": "markdown",
   "metadata": {},
   "source": [
    "Gül Eda Aydemir - 504201574"
   ]
  },
  {
   "cell_type": "markdown",
   "metadata": {},
   "source": [
    "### 🔴 Problem 1 (15 Points)."
   ]
  },
  {
   "cell_type": "code",
   "execution_count": 22,
   "metadata": {},
   "outputs": [],
   "source": [
    "def problem1(year):\n",
    "    year_start = 1600\n",
    "    result = 0;\n",
    "    for x in range(year_start,year):\n",
    "        if x % 4 == 0 and (x % 100 != 0 or x % 400 == 0):\n",
    "                result += 1\n",
    "                \n",
    "    print(f\"the number of leap years from {year_start} until {year} is {result}\")"
   ]
  },
  {
   "cell_type": "code",
   "execution_count": 23,
   "metadata": {},
   "outputs": [
    {
     "name": "stdout",
     "output_type": "stream",
     "text": [
      "the number of leap years from 1600 until 2020 is 102\n"
     ]
    }
   ],
   "source": [
    "problem1(2020)"
   ]
  },
  {
   "cell_type": "markdown",
   "metadata": {},
   "source": [
    "### 🔴 Problem 2 (15 Points)."
   ]
  },
  {
   "cell_type": "markdown",
   "metadata": {},
   "source": [
    "Write a program that generates a list of 20 random numbers between 1 and 100. When generating\n",
    "random number use random seed as 18."
   ]
  },
  {
   "cell_type": "markdown",
   "metadata": {},
   "source": [
    "<ol>\n",
    "  <li>Print the list.</li>\n",
    "  <li>Print the sorted list (sort list in the descending order)</li>\n",
    "  <li>Print the average of the elements in the list.</li>\n",
    "  <li>Print how many even numbers are in the list.</li>\n",
    "  <li>Print the largest and smallest values in the list.</li>\n",
    "  <li>Print the second largest and second smallest entries in the list</li>\n",
    "</ol>"
   ]
  },
  {
   "cell_type": "code",
   "execution_count": 127,
   "metadata": {},
   "outputs": [],
   "source": [
    "import random"
   ]
  },
  {
   "cell_type": "code",
   "execution_count": 176,
   "metadata": {},
   "outputs": [],
   "source": [
    "def problem2():\n",
    "    \n",
    "    #Assigning random seed.\n",
    "    random.seed(18)\n",
    "    \n",
    "    #Generating random number list with seed 18.\n",
    "    myList = [random.randint(1, 100)  for i in range(20)]   \n",
    "    print(f\"1) The numbers in the list: {myList}\")\n",
    "    \n",
    "    #Sorting list descending order. \n",
    "    myList.sort(reverse= True)\n",
    "    \n",
    "    print(f\"2) The sorted list: {myList}\")\n",
    "    print(f\"3) The average number of the list: {sum(myList)/len(myList)}\")\n",
    "    print(f\"4) The number of even numbers: {len([num for num in myList if num % 2 == 0])}\")\n",
    "    print(f\"5) The largest element of the list: {myList[0]}\")\n",
    "    print(f\"6) The smallest element of the list: {myList[len(myList)-1]}\")\n",
    "    \n",
    "    #finds the second smallest element which is different than the first smallest element of the list.\n",
    "    print(f\"7) The second smallest element of the list:{[i for i in myList if i != myList[len(myList)-1]].pop()}\")\n",
    "    \n",
    "    #finds the second largest element which is different than the first largest element of the list.\n",
    "    print(f\"8) The second largest element of the list:{[i for i in myList if i != myList[0]][0]}\")"
   ]
  },
  {
   "cell_type": "code",
   "execution_count": 177,
   "metadata": {},
   "outputs": [
    {
     "name": "stdout",
     "output_type": "stream",
     "text": [
      "1) The numbers in the list: [24, 16, 85, 58, 43, 31, 26, 63, 81, 64, 24, 62, 38, 59, 34, 26, 33, 89, 16, 42]\n",
      "2) The sorted list: [89, 85, 81, 64, 63, 62, 59, 58, 43, 42, 38, 34, 33, 31, 26, 26, 24, 24, 16, 16]\n",
      "3) The average number of the list: 45.7\n",
      "4) The number of even numbers: 12\n",
      "5) The largest element of the list: 89\n",
      "6) The smallest element of the list: 16\n",
      "7) The second smallest element of the list:24\n",
      "8) The second largest element of the list:85\n"
     ]
    }
   ],
   "source": [
    "problem2()"
   ]
  },
  {
   "cell_type": "markdown",
   "metadata": {},
   "source": [
    "### 🔴 Problem 3 (15 Points)."
   ]
  },
  {
   "cell_type": "markdown",
   "metadata": {},
   "source": [
    "You are given two files code_list.txt and value_list.txt. Code_list.txt contains category information\n",
    "and value_list contains some measure values for the corresponding category.\n",
    "Continous categories are presumed to be one segment. An example given in the figure below. Data\n",
    "points between 3 and 11 are all categories of “H” and this forms one segment."
   ]
  },
  {
   "cell_type": "markdown",
   "metadata": {},
   "source": [
    "Write a function which takes these two files (code_list.txt and value_list.txt) and return a dictionary as\n",
    "the output. The structure of the dictionary should be as following: "
   ]
  },
  {
   "cell_type": "markdown",
   "metadata": {},
   "source": [
    "Dictionary should have a key for each category. Then, For each category key provide a new dictionary\n",
    "where keys are segment id’s. For each segment id provide a dictionary whose keys are:\n",
    "<ol>\n",
    "  <li>Values for each segment.</li>\n",
    "  <li>Average of these values</li>\n",
    "  <li>The length of this segment.</li>\n",
    "</ol>\n"
   ]
  },
  {
   "cell_type": "code",
   "execution_count": 27,
   "metadata": {},
   "outputs": [],
   "source": [
    "def problem3(codeListFile,valueListFile):\n",
    "    \n",
    "    #Reading files.\n",
    "    codeFile = open(codeListFile, \"r\")\n",
    "    valueFile = open(valueListFile, \"r\")\n",
    "    \n",
    "    #Creating result dictionary.\n",
    "    result_dict = {}\n",
    "    \n",
    "    #Creating files as dictionaries.\n",
    "    codeDict={}\n",
    "    valueDict={}\n",
    "   \n",
    "    count=0\n",
    "    for line in codeFile.read().splitlines():\n",
    "        codeDict[count]= line\n",
    "        count += 1\n",
    "    \n",
    "    count=0\n",
    "    for line in valueFile.read().splitlines():\n",
    "        valueDict[count]= line\n",
    "        count += 1\n",
    "    \n",
    "    #Memory for values\n",
    "    valueList = []\n",
    "    \n",
    "    #Memory for previous code\n",
    "    code = codeDict[0]\n",
    "    \n",
    "    \n",
    "    for count in range(len(codeDict)):\n",
    "        if codeDict[count] != \"-\" and code == codeDict[count]:\n",
    "            code = codeDict[count]\n",
    "            valueList.append(valueDict[count])\n",
    "        elif codeDict[count] != \"-\" and code != codeDict[count]:\n",
    "            if len(valueList) != 0:\n",
    "                result ={\n",
    "                    'values': valueList,\n",
    "                    'mean': 1.0* sum([float(i) for i in valueList]) / len(valueList), \n",
    "                    'length': len(valueList)\n",
    "                }\n",
    "                if code in result_dict:\n",
    "                    result_dict[code].append([result])\n",
    "                else:\n",
    "                    result_dict[code]=[result]\n",
    "                code = codeDict[count]\n",
    "                valueList = []\n",
    "                valueList.append(valueDict[count])\n",
    "            else:\n",
    "                code = codeDict[count]\n",
    "                valueList.append(valueDict[count])\n",
    "                \n",
    "    \n",
    "    #Closing files.   \n",
    "    codeFile.close()\n",
    "    valueFile.close()\n",
    "    \n",
    "    return result_dict"
   ]
  },
  {
   "cell_type": "code",
   "execution_count": 28,
   "metadata": {},
   "outputs": [
    {
     "data": {
      "text/plain": [
       "{'values': ['0.7692307692307693',\n",
       "  '0.1319796954314721',\n",
       "  '0.2621951219512195',\n",
       "  '0.5031847133757962',\n",
       "  '0.323943661971831',\n",
       "  '0.018292682926829267',\n",
       "  '0.7061855670103093',\n",
       "  '0.7735849056603774',\n",
       "  '0.21893491124260356'],\n",
       " 'mean': 0.4119480032001342,\n",
       " 'length': 9}"
      ]
     },
     "execution_count": 28,
     "metadata": {},
     "output_type": "execute_result"
    }
   ],
   "source": [
    "result = problem3(\"homework1-data/code_list.txt\",\"homework1-data/value_list.txt\");result[\"H\"][0]"
   ]
  },
  {
   "cell_type": "markdown",
   "metadata": {},
   "source": [
    "### 🔴 Problem 4 (15 Points)."
   ]
  },
  {
   "cell_type": "markdown",
   "metadata": {},
   "source": [
    "You are given a csv (gdp_per_capita.csv) file for GDP per capita taken from World Bank. The file\n",
    "holds data from 1960 to 2017. Write a function that takes this file and the country name as the input\n",
    "and calculates average GDP per capita for each decade. Note that for some years, GDP per capita\n",
    "information is missing. Simply ignore those values while calculating means. Beware the values in this\n",
    "file are separated by a semicolon character “;” not comma character “,”. For example, the first GDP\n",
    "per capita value for Turkey is 509.4241117548143.\n",
    "You can find example outputs for this problem below."
   ]
  },
  {
   "cell_type": "code",
   "execution_count": 29,
   "metadata": {},
   "outputs": [],
   "source": [
    "import csv"
   ]
  },
  {
   "cell_type": "code",
   "execution_count": 119,
   "metadata": {},
   "outputs": [],
   "source": [
    "def problem4(gdpFile,countryName):    \n",
    "        rows = csv.reader(open(gdpFile, \"r\"), delimiter = ';')\n",
    "        for row in rows:\n",
    "            name = row[0]\n",
    "            if name == countryName:\n",
    "                values = row[1:]\n",
    "        \n",
    "        # calculate avegare for the country\n",
    "        # Attention: Here, I have taken the boundaries as [0:10] in order to match the values given in the \n",
    "        #            homework explanation document. My opinion is to take it as [0:9] and [10:19] in the \n",
    "        #            next step and so on. I verified it with the print function below. However, as I said, \n",
    "        #            the value ranges are as follows in order to obtain the results in the homework explanation document.\n",
    "        results = {\n",
    "            '1960-1969:': \"no gdp value for this decade\" if len([i for i in values[0:10] if i != '']) == 0 else f\"%10.3f\" % (1.0 * (sum([float(i) for i in values[0:10] if i != '']) / len([i for i in values[0:10] if i != '']))),\n",
    "            '1970-1979:' : \"no gdp value for this decade\" if len([i for i in values[10:20] if i != '']) == 0 else f\"%10.3f\" % (1.0 * (sum([float(i) for i in values[10:20] if i != '']) / len([i for i in values[10:20] if i != '']))),\n",
    "            '1980-1989:' : \"no gdp value for this decade\" if len([i for i in values[20:30] if i != '']) == 0 else f\"%10.3f\" % (1.0 * (sum([float(i) for i in values[20:30] if i != '']) / len([i for i in values[20:30] if i != '']))),\n",
    "            '1990-1999:' : \"no gdp value for this decade\" if len([i for i in values[30:40] if i != '']) == 0 else f\"%10.3f\" % (1.0 * (sum([float(i) for i in values[30:40] if i != '']) / len([i for i in values[30:40] if i != '']))),\n",
    "            '2000-2009:' : \"no gdp value for this decade\" if len([i for i in values[40:50] if i != '']) == 0 else f\"%10.3f\" % (1.0 * (sum([float(i) for i in values[40:50] if i != '']) / len([i for i in values[40:50] if i != '']))),\n",
    "            '2010-2019:' : \"no gdp value for this decade\" if len([i for i in values[50:60] if i != '']) == 0 else f\"%10.3f\" % (1.0 * (sum([float(i) for i in values[50:60] if i != '']) / len([i for i in values[50:60] if i != ''])))\n",
    "        }\n",
    "\n",
    "        print(f\"Average GDP for each decade for country: {countryName}\\n\")\n",
    "        print(\"\\n\".join(\"{}{}\".format(k, v) for k, v in results.items()))\n",
    "        \n",
    "        #print((17342.471939574487 + 16441.790636191578 + 16585.195530726258 + 17926.572836116542 + 19081.35165612498) / 5)"
   ]
  },
  {
   "cell_type": "code",
   "execution_count": 120,
   "metadata": {},
   "outputs": [
    {
     "name": "stdout",
     "output_type": "stream",
     "text": [
      "Average GDP for each decade for country: Turkey\n",
      "\n",
      "1960-1969:   423.523\n",
      "1970-1979:  1058.633\n",
      "1980-1989:  1545.502\n",
      "1990-1999:  3152.381\n",
      "2000-2009:  6687.129\n",
      "2010-2019: 11348.984\n"
     ]
    }
   ],
   "source": [
    "problem4(\"homework1-data/gdp_per_capita.csv\",\"Turkey\")"
   ]
  },
  {
   "cell_type": "markdown",
   "metadata": {},
   "source": [
    "### 🔴 Problem 5 (15 Points)."
   ]
  },
  {
   "cell_type": "markdown",
   "metadata": {},
   "source": [
    "You are given a log file called “glide.log” that is taken from the log file of a scientific program. A\n",
    "preview of this log file is given below. You should go and extract the following information.\n",
    "• There are lines that starts with “DOCKING RESULTS FOR LIGAND “. First extract ligand\n",
    "number.\n",
    "• Then right below this line there is GlidScore information.\n",
    "• For this ligand you should print ligand number and GlideScore as\n",
    "• ligand: 1 glide energy: -3.06\n",
    "Write a function that takes “glide.log” as the input and prints the following information.\u0000\u0000"
   ]
  },
  {
   "cell_type": "code",
   "execution_count": 407,
   "metadata": {},
   "outputs": [],
   "source": [
    "import re"
   ]
  },
  {
   "cell_type": "code",
   "execution_count": 824,
   "metadata": {},
   "outputs": [],
   "source": [
    "def problem5(logFile):\n",
    "    #Reading log file.\n",
    "    text = \"DOCKING RESULTS FOR LIGAND \"\n",
    "    text2 = \"Best XP pose\"\n",
    "\n",
    "    ligand=\"\"\n",
    "    glide_energy=\"\"\n",
    "    for row in open(logFile, \"r\").readlines():\n",
    "        if row.find(text) != -1:\n",
    "            ligand = re.findall(r\"\\b\\d+\\b\",row)\n",
    "        elif row.find(text2) != -1:\n",
    "            glide_energy = re.findall(r\"[+-]?\\d+\\.\\d+\",row)\n",
    "            print(\"ligand: {:2d} glide energy: {:6.2f}\".format(int(ligand[0]),float(glide_energy[0]) ) )\n",
    "        else:\n",
    "            continue\n",
    "            "
   ]
  },
  {
   "cell_type": "code",
   "execution_count": 825,
   "metadata": {},
   "outputs": [
    {
     "name": "stdout",
     "output_type": "stream",
     "text": [
      "ligand:  1 glide energy:  -3.06\n",
      "ligand:  2 glide energy:  -3.06\n",
      "ligand:  3 glide energy:  -4.19\n",
      "ligand:  4 glide energy:  -4.75\n",
      "ligand:  5 glide energy:  -3.38\n",
      "ligand:  6 glide energy:  -4.47\n",
      "ligand:  7 glide energy:  -4.25\n",
      "ligand:  8 glide energy:  -4.38\n",
      "ligand:  9 glide energy:  -3.96\n",
      "ligand: 10 glide energy:  -2.49\n",
      "ligand: 11 glide energy:  -3.36\n",
      "ligand: 12 glide energy:  -3.06\n",
      "ligand: 13 glide energy:  -2.82\n",
      "ligand: 14 glide energy:  -2.77\n",
      "ligand: 15 glide energy:  -5.05\n",
      "ligand: 16 glide energy:  -4.49\n",
      "ligand: 17 glide energy:  -3.31\n",
      "ligand: 18 glide energy:  -3.05\n",
      "ligand: 19 glide energy:  -3.32\n",
      "ligand: 20 glide energy:  -3.06\n",
      "ligand: 21 glide energy:  -5.52\n",
      "ligand: 22 glide energy:  -6.01\n",
      "ligand: 23 glide energy:  -3.48\n",
      "ligand: 24 glide energy:  -3.43\n",
      "ligand: 25 glide energy:  -2.01\n",
      "ligand: 26 glide energy:  -3.06\n",
      "ligand: 27 glide energy:  -2.41\n",
      "ligand: 28 glide energy:  -2.50\n",
      "ligand: 29 glide energy:  -6.05\n",
      "ligand: 30 glide energy:  -4.79\n"
     ]
    }
   ],
   "source": [
    "problem5(\"homework1-data/glide.log\")"
   ]
  },
  {
   "cell_type": "markdown",
   "metadata": {},
   "source": [
    "### 🔴 Problem 6 (15 Points)."
   ]
  },
  {
   "cell_type": "markdown",
   "metadata": {},
   "source": [
    "Randomly generate a 6 x 6 list that has exactly 12 ones placed in random locations in the list. The rest\n",
    "of the entries should be zeroes. Note you can visualize the 2D list using display function. "
   ]
  },
  {
   "cell_type": "code",
   "execution_count": 391,
   "metadata": {},
   "outputs": [],
   "source": [
    "def problem6():\n",
    "    binaryMatrix = [[0]*6 for i in range(6)]\n",
    "    for pos in random.sample(range(36), 12):\n",
    "        binaryMatrix[pos//6][pos%6] = 1\n",
    "    \n",
    "    display(binaryMatrix)"
   ]
  },
  {
   "cell_type": "code",
   "execution_count": 392,
   "metadata": {},
   "outputs": [
    {
     "data": {
      "text/plain": [
       "[[0, 0, 0, 0, 0, 0],\n",
       " [0, 0, 0, 1, 1, 0],\n",
       " [0, 0, 1, 0, 0, 1],\n",
       " [0, 1, 0, 0, 1, 1],\n",
       " [0, 1, 1, 1, 0, 0],\n",
       " [0, 0, 1, 0, 0, 1]]"
      ]
     },
     "metadata": {},
     "output_type": "display_data"
    }
   ],
   "source": [
    "problem6()"
   ]
  },
  {
   "cell_type": "markdown",
   "metadata": {},
   "source": [
    "### 🔴 Problem 7 (10 Points)."
   ]
  },
  {
   "cell_type": "markdown",
   "metadata": {},
   "source": [
    "In this problem, write a function that returns the number of hours you spent on this homework and\n",
    "difficulty level of the homework. Difficulty level should be between 1 and 5 referring very easy, easy,\n",
    "medium, difficult, very difficult respectively. The function should write the output into a file named\n",
    "“homework1_survey.txt”.\n",
    "When I call Problem6() function, I should get a text file similar to the text file given below.\n",
    "Note the number of hours spent or difficulty level should not be input arguments.\n",
    "This problem is intended to serve as survey."
   ]
  },
  {
   "cell_type": "code",
   "execution_count": 964,
   "metadata": {},
   "outputs": [],
   "source": [
    "def problem7():\n",
    "    f = open(\"homework1_survey.txt\", \"w\")\n",
    "    f.write(\"Hours spent on this homework: 11 \\n\")\n",
    "    f.write(\"Difficulty level of this homework: 3\\n\")\n",
    "\n",
    "    f.close()"
   ]
  },
  {
   "cell_type": "code",
   "execution_count": 965,
   "metadata": {},
   "outputs": [],
   "source": [
    "problem7()"
   ]
  }
 ],
 "metadata": {
  "kernelspec": {
   "display_name": "Python 3",
   "language": "python",
   "name": "python3"
  },
  "language_info": {
   "codemirror_mode": {
    "name": "ipython",
    "version": 3
   },
   "file_extension": ".py",
   "mimetype": "text/x-python",
   "name": "python",
   "nbconvert_exporter": "python",
   "pygments_lexer": "ipython3",
   "version": "3.6.10"
  }
 },
 "nbformat": 4,
 "nbformat_minor": 4
}
